{
  "cells": [
    {
      "cell_type": "markdown",
      "metadata": {
        "id": "0ILt3efEBf_I"
      },
      "source": [
        "My Implementation of Neural Style Transfer\n",
        "\n",
        "\"A Neural Algorithm of Artistic Style\"\n",
        "https://arxiv.org/abs/1508.06576\n",
        "\n",
        "Gholamreza Dar 2022"
      ]
    },
    {
      "cell_type": "code",
      "execution_count": 1,
      "metadata": {
        "id": "xda9jo8sBySx"
      },
      "outputs": [],
      "source": [
        "import torch\n",
        "import torch.nn as nn\n",
        "import torch.optim as optim\n",
        "from PIL import Image\n",
        "import torchvision.transforms as transforms\n",
        "import torchvision.models as models\n",
        "from torchvision.utils import save_image"
      ]
    },
    {
      "cell_type": "code",
      "execution_count": 2,
      "metadata": {
        "id": "TrWV821XDZJJ"
      },
      "outputs": [],
      "source": [
        "device = torch.device(\"cuda\" if torch.cuda.is_available() else \"cpu\")\n",
        "image_size = 356\n",
        "loader = transforms.Compose(\n",
        "    [\n",
        "        transforms.Resize((image_size, image_size)),\n",
        "        transforms.ToTensor(),\n",
        "    ]\n",
        ")"
      ]
    },
    {
      "cell_type": "code",
      "execution_count": 3,
      "metadata": {
        "id": "L-mCSYF3C8Wj"
      },
      "outputs": [],
      "source": [
        "class VGG(nn.Module):\n",
        "    def __init__(self):\n",
        "        super(VGG, self).__init__()\n",
        "        self.chosen_features =  ['0', '5', '10', '19', '28']\n",
        "        self.model = models.vgg19(weights=\"DEFAULT\").features[:29]\n",
        "\n",
        "    def forward(self, x):\n",
        "        features = []\n",
        "        for layer_num, layer in enumerate(self.model):\n",
        "            x = layer(x)\n",
        "            if str(layer_num) in self.chosen_features:\n",
        "                features.append(x)\n",
        "\n",
        "        return features"
      ]
    },
    {
      "cell_type": "code",
      "execution_count": 4,
      "metadata": {
        "id": "YQpwWCZ2DLF_"
      },
      "outputs": [],
      "source": [
        "def load_image(image_name):\n",
        "    image = Image.open(image_name)\n",
        "    image = loader(image).unsqueeze(0)\n",
        "    return image.to(device)"
      ]
    },
    {
      "cell_type": "code",
      "execution_count": 5,
      "metadata": {
        "colab": {
          "base_uri": "https://localhost:8080/"
        },
        "id": "N_78jT5NHBQT",
        "outputId": "a6945603-55a9-44e9-9486-9c1bc218b7c5"
      },
      "outputs": [
        {
          "name": "stdout",
          "output_type": "stream",
          "text": [
            "--2024-12-15 22:57:01--  https://www.vincentvangogh.org/assets/img/paintings/the-starry-night-over-the-rhone.jpg\n",
            "Resolving www.vincentvangogh.org (www.vincentvangogh.org)... 104.21.62.178, 172.67.137.232, 2606:4700:3033::ac43:89e8, ...\n",
            "Connecting to www.vincentvangogh.org (www.vincentvangogh.org)|104.21.62.178|:443... connected.\n",
            "HTTP request sent, awaiting response... 200 OK\n",
            "Length: 306388 (299K) [image/jpeg]\n",
            "Saving to: ‘image_b.jpg’\n",
            "\n",
            "image_b.jpg         100%[===================>] 299.21K   693KB/s    in 0.4s    \n",
            "\n",
            "2024-12-15 22:57:02 (693 KB/s) - ‘image_b.jpg’ saved [306388/306388]\n",
            "\n",
            "--2024-12-15 22:57:02--  https://bonnierpublications.com/app/uploads/2022/05/woman-1.jpg\n",
            "Resolving bonnierpublications.com (bonnierpublications.com)... 104.21.59.52, 172.67.214.143, 2606:4700:3035::ac43:d68f, ...\n",
            "Connecting to bonnierpublications.com (bonnierpublications.com)|104.21.59.52|:443... connected.\n",
            "HTTP request sent, awaiting response... 200 OK\n",
            "Length: 316396 (309K) [image/jpeg]\n",
            "Saving to: ‘image_a.jpg’\n",
            "\n",
            "image_a.jpg         100%[===================>] 308.98K  --.-KB/s    in 0.04s   \n",
            "\n",
            "2024-12-15 22:57:03 (8.29 MB/s) - ‘image_a.jpg’ saved [316396/316396]\n",
            "\n"
          ]
        }
      ],
      "source": [
        "!wget https://www.vincentvangogh.org/assets/img/paintings/the-starry-night-over-the-rhone.jpg -O \"image_b.jpg\"\n",
        "!wget https://bonnierpublications.com/app/uploads/2022/05/woman-1.jpg -O \"image_a.jpg\""
      ]
    },
    {
      "cell_type": "code",
      "execution_count": 6,
      "metadata": {
        "colab": {
          "base_uri": "https://localhost:8080/"
        },
        "id": "86hkMcKCDyjO",
        "outputId": "0d5691cd-9f7c-4ffc-b111-e1c1bddc66c7"
      },
      "outputs": [
        {
          "name": "stderr",
          "output_type": "stream",
          "text": [
            "Downloading: \"https://download.pytorch.org/models/vgg19-dcbb9e9d.pth\" to /root/.cache/torch/hub/checkpoints/vgg19-dcbb9e9d.pth\n",
            "100%|██████████| 548M/548M [00:06<00:00, 85.1MB/s]\n"
          ]
        }
      ],
      "source": [
        "original_image = load_image(\"image_a.jpg\")\n",
        "style_image = load_image(\"image_b.jpg\")\n",
        "model = VGG().to(device).eval()\n",
        "generated = original_image.clone().requires_grad_(True)"
      ]
    },
    {
      "cell_type": "code",
      "execution_count": null,
      "metadata": {
        "colab": {
          "base_uri": "https://localhost:8080/",
          "height": 1000,
          "referenced_widgets": [
            "42b7cf1c64984e389efc9d924f74f27a",
            "df51f092ba9c43d2818666f4ed273520",
            "096c4e96781742b59664ebac7053db9f",
            "5cce3bc3d64c4d689e685415c985bc83",
            "114bfdafd7294e05a07f42272b5eb1d6",
            "29689e99adc84aa4aa1c443ce2443afd",
            "2bd7751f6fcf48e6a963c3cb4028eba8",
            "cd04ca85772745429449f2ba100de3f6",
            "96e91514ec154de9a5f9278926dc7d5a",
            "2b921546f0924b8c9cc50b511b72f9da",
            "25643df48167437484b5758bba65618e"
          ]
        },
        "id": "_cJPmEo4GahA",
        "outputId": "b28eaffd-b358-4512-e06a-63af111855bf"
      },
      "outputs": [],
      "source": [
        "from tqdm.auto import tqdm\n",
        "import matplotlib.pyplot as plt\n",
        "\n",
        "total_steps = 3000\n",
        "learning_rate = 0.001\n",
        "alpha = 1\n",
        "beta = 0.01\n",
        "\n",
        "# notice how we put generated image as the \"parameters\"\n",
        "optimizer = optim.Adam([generated], lr=learning_rate)\n",
        "\n",
        "for step in tqdm(range(total_steps)):\n",
        "    generated_features = model(generated)\n",
        "    original_img_features = model(original_image)\n",
        "    style_features = model(style_image)\n",
        "\n",
        "    style_loss = 0\n",
        "    original_loss = 0\n",
        "\n",
        "    for gen_feature, orig_feature, style_feature in zip(\n",
        "        generated_features, original_img_features, style_features\n",
        "    ):\n",
        "        batch_size, channel, height, width = gen_feature.shape\n",
        "        original_loss += torch.mean((gen_feature - orig_feature) ** 2)\n",
        "\n",
        "        # compute the gram matrix (gen_feature X gen_feature.T)\n",
        "        G = gen_feature.view(channel, height * width).mm(\n",
        "            gen_feature.view(channel, height * width).t()\n",
        "        )\n",
        "\n",
        "        A = style_feature.view(channel, height * width).mm(\n",
        "            style_feature.view(channel, height * width).t()\n",
        "        )\n",
        "\n",
        "        style_loss += torch.mean((G - A) ** 2)\n",
        "\n",
        "    total_loss = alpha * original_loss + beta * style_loss\n",
        "    optimizer.zero_grad()\n",
        "    total_loss.backward()\n",
        "    optimizer.step()\n",
        "    if step % 200 == 0:\n",
        "        save_image(generated, f\"generated_{step:<4}.png\")\n",
        "        plt.title(f\"Step: {step}\")\n",
        "        plt.imshow(generated.detach().cpu().squeeze(0).permute(1, 2, 0))\n",
        "        plt.show()"
      ]
    },
    {
      "cell_type": "code",
      "execution_count": 7,
      "metadata": {
        "id": "3hVSkWvQHs8V"
      },
      "outputs": [],
      "source": []
    }
  ],
  "metadata": {
    "colab": {
      "provenance": []
    },
    "kernelspec": {
      "display_name": "Python 3",
      "name": "python3"
    },
    "language_info": {
      "name": "python"
    },
    "widgets": {
      "application/vnd.jupyter.widget-state+json": {
        "096c4e96781742b59664ebac7053db9f": {
          "model_module": "@jupyter-widgets/controls",
          "model_module_version": "1.5.0",
          "model_name": "FloatProgressModel",
          "state": {
            "_dom_classes": [],
            "_model_module": "@jupyter-widgets/controls",
            "_model_module_version": "1.5.0",
            "_model_name": "FloatProgressModel",
            "_view_count": null,
            "_view_module": "@jupyter-widgets/controls",
            "_view_module_version": "1.5.0",
            "_view_name": "ProgressView",
            "bar_style": "success",
            "description": "",
            "description_tooltip": null,
            "layout": "IPY_MODEL_cd04ca85772745429449f2ba100de3f6",
            "max": 6000,
            "min": 0,
            "orientation": "horizontal",
            "style": "IPY_MODEL_96e91514ec154de9a5f9278926dc7d5a",
            "value": 6000
          }
        },
        "114bfdafd7294e05a07f42272b5eb1d6": {
          "model_module": "@jupyter-widgets/base",
          "model_module_version": "1.2.0",
          "model_name": "LayoutModel",
          "state": {
            "_model_module": "@jupyter-widgets/base",
            "_model_module_version": "1.2.0",
            "_model_name": "LayoutModel",
            "_view_count": null,
            "_view_module": "@jupyter-widgets/base",
            "_view_module_version": "1.2.0",
            "_view_name": "LayoutView",
            "align_content": null,
            "align_items": null,
            "align_self": null,
            "border": null,
            "bottom": null,
            "display": null,
            "flex": null,
            "flex_flow": null,
            "grid_area": null,
            "grid_auto_columns": null,
            "grid_auto_flow": null,
            "grid_auto_rows": null,
            "grid_column": null,
            "grid_gap": null,
            "grid_row": null,
            "grid_template_areas": null,
            "grid_template_columns": null,
            "grid_template_rows": null,
            "height": null,
            "justify_content": null,
            "justify_items": null,
            "left": null,
            "margin": null,
            "max_height": null,
            "max_width": null,
            "min_height": null,
            "min_width": null,
            "object_fit": null,
            "object_position": null,
            "order": null,
            "overflow": null,
            "overflow_x": null,
            "overflow_y": null,
            "padding": null,
            "right": null,
            "top": null,
            "visibility": null,
            "width": null
          }
        },
        "25643df48167437484b5758bba65618e": {
          "model_module": "@jupyter-widgets/controls",
          "model_module_version": "1.5.0",
          "model_name": "DescriptionStyleModel",
          "state": {
            "_model_module": "@jupyter-widgets/controls",
            "_model_module_version": "1.5.0",
            "_model_name": "DescriptionStyleModel",
            "_view_count": null,
            "_view_module": "@jupyter-widgets/base",
            "_view_module_version": "1.2.0",
            "_view_name": "StyleView",
            "description_width": ""
          }
        },
        "29689e99adc84aa4aa1c443ce2443afd": {
          "model_module": "@jupyter-widgets/base",
          "model_module_version": "1.2.0",
          "model_name": "LayoutModel",
          "state": {
            "_model_module": "@jupyter-widgets/base",
            "_model_module_version": "1.2.0",
            "_model_name": "LayoutModel",
            "_view_count": null,
            "_view_module": "@jupyter-widgets/base",
            "_view_module_version": "1.2.0",
            "_view_name": "LayoutView",
            "align_content": null,
            "align_items": null,
            "align_self": null,
            "border": null,
            "bottom": null,
            "display": null,
            "flex": null,
            "flex_flow": null,
            "grid_area": null,
            "grid_auto_columns": null,
            "grid_auto_flow": null,
            "grid_auto_rows": null,
            "grid_column": null,
            "grid_gap": null,
            "grid_row": null,
            "grid_template_areas": null,
            "grid_template_columns": null,
            "grid_template_rows": null,
            "height": null,
            "justify_content": null,
            "justify_items": null,
            "left": null,
            "margin": null,
            "max_height": null,
            "max_width": null,
            "min_height": null,
            "min_width": null,
            "object_fit": null,
            "object_position": null,
            "order": null,
            "overflow": null,
            "overflow_x": null,
            "overflow_y": null,
            "padding": null,
            "right": null,
            "top": null,
            "visibility": null,
            "width": null
          }
        },
        "2b921546f0924b8c9cc50b511b72f9da": {
          "model_module": "@jupyter-widgets/base",
          "model_module_version": "1.2.0",
          "model_name": "LayoutModel",
          "state": {
            "_model_module": "@jupyter-widgets/base",
            "_model_module_version": "1.2.0",
            "_model_name": "LayoutModel",
            "_view_count": null,
            "_view_module": "@jupyter-widgets/base",
            "_view_module_version": "1.2.0",
            "_view_name": "LayoutView",
            "align_content": null,
            "align_items": null,
            "align_self": null,
            "border": null,
            "bottom": null,
            "display": null,
            "flex": null,
            "flex_flow": null,
            "grid_area": null,
            "grid_auto_columns": null,
            "grid_auto_flow": null,
            "grid_auto_rows": null,
            "grid_column": null,
            "grid_gap": null,
            "grid_row": null,
            "grid_template_areas": null,
            "grid_template_columns": null,
            "grid_template_rows": null,
            "height": null,
            "justify_content": null,
            "justify_items": null,
            "left": null,
            "margin": null,
            "max_height": null,
            "max_width": null,
            "min_height": null,
            "min_width": null,
            "object_fit": null,
            "object_position": null,
            "order": null,
            "overflow": null,
            "overflow_x": null,
            "overflow_y": null,
            "padding": null,
            "right": null,
            "top": null,
            "visibility": null,
            "width": null
          }
        },
        "2bd7751f6fcf48e6a963c3cb4028eba8": {
          "model_module": "@jupyter-widgets/controls",
          "model_module_version": "1.5.0",
          "model_name": "DescriptionStyleModel",
          "state": {
            "_model_module": "@jupyter-widgets/controls",
            "_model_module_version": "1.5.0",
            "_model_name": "DescriptionStyleModel",
            "_view_count": null,
            "_view_module": "@jupyter-widgets/base",
            "_view_module_version": "1.2.0",
            "_view_name": "StyleView",
            "description_width": ""
          }
        },
        "42b7cf1c64984e389efc9d924f74f27a": {
          "model_module": "@jupyter-widgets/controls",
          "model_module_version": "1.5.0",
          "model_name": "HBoxModel",
          "state": {
            "_dom_classes": [],
            "_model_module": "@jupyter-widgets/controls",
            "_model_module_version": "1.5.0",
            "_model_name": "HBoxModel",
            "_view_count": null,
            "_view_module": "@jupyter-widgets/controls",
            "_view_module_version": "1.5.0",
            "_view_name": "HBoxView",
            "box_style": "",
            "children": [
              "IPY_MODEL_df51f092ba9c43d2818666f4ed273520",
              "IPY_MODEL_096c4e96781742b59664ebac7053db9f",
              "IPY_MODEL_5cce3bc3d64c4d689e685415c985bc83"
            ],
            "layout": "IPY_MODEL_114bfdafd7294e05a07f42272b5eb1d6"
          }
        },
        "5cce3bc3d64c4d689e685415c985bc83": {
          "model_module": "@jupyter-widgets/controls",
          "model_module_version": "1.5.0",
          "model_name": "HTMLModel",
          "state": {
            "_dom_classes": [],
            "_model_module": "@jupyter-widgets/controls",
            "_model_module_version": "1.5.0",
            "_model_name": "HTMLModel",
            "_view_count": null,
            "_view_module": "@jupyter-widgets/controls",
            "_view_module_version": "1.5.0",
            "_view_name": "HTMLView",
            "description": "",
            "description_tooltip": null,
            "layout": "IPY_MODEL_2b921546f0924b8c9cc50b511b72f9da",
            "placeholder": "​",
            "style": "IPY_MODEL_25643df48167437484b5758bba65618e",
            "value": " 6000/6000 [18:36&lt;00:00,  5.40it/s]"
          }
        },
        "96e91514ec154de9a5f9278926dc7d5a": {
          "model_module": "@jupyter-widgets/controls",
          "model_module_version": "1.5.0",
          "model_name": "ProgressStyleModel",
          "state": {
            "_model_module": "@jupyter-widgets/controls",
            "_model_module_version": "1.5.0",
            "_model_name": "ProgressStyleModel",
            "_view_count": null,
            "_view_module": "@jupyter-widgets/base",
            "_view_module_version": "1.2.0",
            "_view_name": "StyleView",
            "bar_color": null,
            "description_width": ""
          }
        },
        "cd04ca85772745429449f2ba100de3f6": {
          "model_module": "@jupyter-widgets/base",
          "model_module_version": "1.2.0",
          "model_name": "LayoutModel",
          "state": {
            "_model_module": "@jupyter-widgets/base",
            "_model_module_version": "1.2.0",
            "_model_name": "LayoutModel",
            "_view_count": null,
            "_view_module": "@jupyter-widgets/base",
            "_view_module_version": "1.2.0",
            "_view_name": "LayoutView",
            "align_content": null,
            "align_items": null,
            "align_self": null,
            "border": null,
            "bottom": null,
            "display": null,
            "flex": null,
            "flex_flow": null,
            "grid_area": null,
            "grid_auto_columns": null,
            "grid_auto_flow": null,
            "grid_auto_rows": null,
            "grid_column": null,
            "grid_gap": null,
            "grid_row": null,
            "grid_template_areas": null,
            "grid_template_columns": null,
            "grid_template_rows": null,
            "height": null,
            "justify_content": null,
            "justify_items": null,
            "left": null,
            "margin": null,
            "max_height": null,
            "max_width": null,
            "min_height": null,
            "min_width": null,
            "object_fit": null,
            "object_position": null,
            "order": null,
            "overflow": null,
            "overflow_x": null,
            "overflow_y": null,
            "padding": null,
            "right": null,
            "top": null,
            "visibility": null,
            "width": null
          }
        },
        "df51f092ba9c43d2818666f4ed273520": {
          "model_module": "@jupyter-widgets/controls",
          "model_module_version": "1.5.0",
          "model_name": "HTMLModel",
          "state": {
            "_dom_classes": [],
            "_model_module": "@jupyter-widgets/controls",
            "_model_module_version": "1.5.0",
            "_model_name": "HTMLModel",
            "_view_count": null,
            "_view_module": "@jupyter-widgets/controls",
            "_view_module_version": "1.5.0",
            "_view_name": "HTMLView",
            "description": "",
            "description_tooltip": null,
            "layout": "IPY_MODEL_29689e99adc84aa4aa1c443ce2443afd",
            "placeholder": "​",
            "style": "IPY_MODEL_2bd7751f6fcf48e6a963c3cb4028eba8",
            "value": "100%"
          }
        }
      }
    }
  },
  "nbformat": 4,
  "nbformat_minor": 0
}
